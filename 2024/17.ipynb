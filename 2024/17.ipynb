{
 "cells": [
  {
   "cell_type": "code",
   "execution_count": 12,
   "metadata": {},
   "outputs": [
    {
     "name": "stdout",
     "output_type": "stream",
     "text": [
      "1,4,6,1,6,4,3,0,3\n"
     ]
    }
   ],
   "source": [
    "# Part 1\n",
    "a = 66245665\n",
    "b = 0\n",
    "c = 0\n",
    "out = []\n",
    "\n",
    "while (a != 0):\n",
    "    b = a % 8       # 2 4\n",
    "    b = b ^ 7       # 1 7\n",
    "    # c = a // 2 ** b # 7 5\n",
    "    c = a >> b\n",
    "    b = b ^ 7       # 1 7\n",
    "    b = b ^ c       # 4 6\n",
    "    # a = a // 2 ** 3 # 0 3\n",
    "    a = a >> 3\n",
    "    out.append(str(b % 8))\n",
    "\n",
    "print(\",\".join(out))"
   ]
  },
  {
   "cell_type": "code",
   "execution_count": 1,
   "metadata": {},
   "outputs": [
    {
     "ename": "KeyboardInterrupt",
     "evalue": "",
     "output_type": "error",
     "traceback": [
      "\u001b[0;31m---------------------------------------------------------------------------\u001b[0m",
      "\u001b[0;31mKeyboardInterrupt\u001b[0m                         Traceback (most recent call last)",
      "Cell \u001b[0;32mIn[1], line 43\u001b[0m\n\u001b[1;32m     41\u001b[0m \u001b[38;5;28;01mfor\u001b[39;00m a \u001b[38;5;129;01min\u001b[39;00m \u001b[38;5;28mrange\u001b[39m(\u001b[38;5;241m10\u001b[39m \u001b[38;5;241m*\u001b[39m\u001b[38;5;241m*\u001b[39m \u001b[38;5;241m13\u001b[39m, \u001b[38;5;241m10\u001b[39m \u001b[38;5;241m*\u001b[39m\u001b[38;5;241m*\u001b[39m \u001b[38;5;241m15\u001b[39m): \n\u001b[1;32m     42\u001b[0m     res \u001b[38;5;241m=\u001b[39m exec(a)\n\u001b[0;32m---> 43\u001b[0m     \u001b[38;5;28;01mif\u001b[39;00m res:\n\u001b[1;32m     44\u001b[0m         \u001b[38;5;28;01mbreak\u001b[39;00m\n",
      "\u001b[0;31mKeyboardInterrupt\u001b[0m: "
     ]
    }
   ],
   "source": [
    "# Part 2\n",
    "target = [2,4,1,7,7,5,1,7,4,6,0,3,5,5,3,0]\n",
    "\n",
    "def exec(a_init):\n",
    "    a = a_init\n",
    "    b = 0\n",
    "    c = 0\n",
    "\n",
    "    out = []\n",
    "    out_len = 0\n",
    "\n",
    "    while (a != 0):\n",
    "        b = a % 8       # 2 4\n",
    "        b = b ^ 7       # 1 7\n",
    "        c = a // 2 ** b # 7 5\n",
    "        b = b ^ 7       # 1 7\n",
    "        b = b ^ c       # 4 6\n",
    "        a = a // 8      # 0 3\n",
    "        out.append(b % 8)\n",
    "        out_len += 1\n",
    "\n",
    "        if out != target[:out_len]:\n",
    "            return False\n",
    "\n",
    "\n",
    "    if out == target:\n",
    "        print(\"found it\")\n",
    "        return True\n",
    "    elif (a_init % 1000000 == 0):\n",
    "        print(len(out))\n",
    "    # print(len(out))\n",
    "    \n",
    "    return False\n",
    "\n",
    "# Need 16 output values\n",
    "# Try some big numbers to approximate a range\n",
    "# -> somewhere in range 10^14\n",
    "# for i in range(10, 20):\n",
    "#     exec(10 ** i)\n",
    "\n",
    "for a in range(10 ** 13, 10 ** 15): \n",
    "    res = exec(a)\n",
    "    if res:\n",
    "        break"
   ]
  }
 ],
 "metadata": {
  "kernelspec": {
   "display_name": ".venv",
   "language": "python",
   "name": "python3"
  },
  "language_info": {
   "codemirror_mode": {
    "name": "ipython",
    "version": 3
   },
   "file_extension": ".py",
   "mimetype": "text/x-python",
   "name": "python",
   "nbconvert_exporter": "python",
   "pygments_lexer": "ipython3",
   "version": "3.12.1"
  }
 },
 "nbformat": 4,
 "nbformat_minor": 2
}
