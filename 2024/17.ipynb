{
 "cells": [
  {
   "cell_type": "code",
   "execution_count": 15,
   "metadata": {},
   "outputs": [
    {
     "name": "stdout",
     "output_type": "stream",
     "text": [
      "1,4,6,1,6,4,3,0,3\n"
     ]
    }
   ],
   "source": [
    "# Part 1\n",
    "a = 66245665\n",
    "b = 0\n",
    "c = 0\n",
    "out = []\n",
    "\n",
    "while (a != 0):\n",
    "    b = a % 8       # 2 4\n",
    "    b = b ^ 7       # 1 7\n",
    "    c = a >> b      # 7 5\n",
    "    b = b ^ 7       # 1 7\n",
    "    b = b ^ c       # 4 6\n",
    "    a = a >> 3      # 0 3\n",
    "    out.append(str(b % 8))\n",
    "\n",
    "print(\",\".join(out))"
   ]
  }
 ],
 "metadata": {
  "language_info": {
   "name": "python"
  }
 },
 "nbformat": 4,
 "nbformat_minor": 2
}
