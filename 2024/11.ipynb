{
 "cells": [
  {
   "cell_type": "code",
   "execution_count": 17,
   "metadata": {},
   "outputs": [
    {
     "name": "stdout",
     "output_type": "stream",
     "text": [
      "200446\n"
     ]
    }
   ],
   "source": [
    "# Part 1\n",
    "from itertools import chain\n",
    "\n",
    "input = [int(c) for c in input_str.split(\" \")]\n",
    "CYCLES = 25\n",
    "\n",
    "\n",
    "def cycle(stone):\n",
    "    if stone == 0:\n",
    "        yield 1\n",
    "        return\n",
    "\n",
    "    stone_str = str(stone)\n",
    "    if len(stone_str) % 2 == 0:\n",
    "        half = len(stone_str) // 2\n",
    "        yield int(stone_str[half:])\n",
    "        yield int(stone_str[:half])\n",
    "        return\n",
    "\n",
    "    yield stone * 2024\n",
    "\n",
    "\n",
    "stones = input\n",
    "for c in range(CYCLES):\n",
    "    stones = list(chain.from_iterable(map(cycle, stones)))\n",
    "\n",
    "print(len(stones))"
   ]
  },
  {
   "cell_type": "code",
   "execution_count": 5,
   "metadata": {},
   "outputs": [],
   "source": [
    "# Test input\n",
    "input_str=\"125 17\""
   ]
  },
  {
   "cell_type": "code",
   "execution_count": 15,
   "metadata": {},
   "outputs": [],
   "source": [
    "# Input\n",
    "input_str=\"814 1183689 0 1 766231 4091 93836 46\""
   ]
  }
 ],
 "metadata": {
  "kernelspec": {
   "display_name": ".venv",
   "language": "python",
   "name": "python3"
  },
  "language_info": {
   "codemirror_mode": {
    "name": "ipython",
    "version": 3
   },
   "file_extension": ".py",
   "mimetype": "text/x-python",
   "name": "python",
   "nbconvert_exporter": "python",
   "pygments_lexer": "ipython3",
   "version": "3.12.1"
  }
 },
 "nbformat": 4,
 "nbformat_minor": 2
}
