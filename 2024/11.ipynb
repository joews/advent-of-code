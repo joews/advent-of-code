{
 "cells": [
  {
   "cell_type": "code",
   "execution_count": 17,
   "metadata": {},
   "outputs": [
    {
     "name": "stdout",
     "output_type": "stream",
     "text": [
      "200446\n"
     ]
    }
   ],
   "source": [
    "# Part 1\n",
    "from itertools import chain\n",
    "\n",
    "input = [int(c) for c in input_str.split(\" \")]\n",
    "CYCLES = 25\n",
    "\n",
    "\n",
    "def cycle(stone):\n",
    "    if stone == 0:\n",
    "        yield 1\n",
    "        return\n",
    "\n",
    "    stone_str = str(stone)\n",
    "    if len(stone_str) % 2 == 0:\n",
    "        half = len(stone_str) // 2\n",
    "        yield int(stone_str[half:])\n",
    "        yield int(stone_str[:half])\n",
    "        return\n",
    "\n",
    "    yield stone * 2024\n",
    "\n",
    "\n",
    "stones = input\n",
    "for c in range(CYCLES):\n",
    "    stones = list(chain.from_iterable(map(cycle, stones)))\n",
    "\n",
    "print(len(stones))"
   ]
  },
  {
   "cell_type": "code",
   "execution_count": 8,
   "metadata": {},
   "outputs": [
    {
     "data": {
      "text/plain": [
       "17592186044416.0"
      ]
     },
     "execution_count": 8,
     "metadata": {},
     "output_type": "execute_result"
    }
   ],
   "source": [
    "(4 * 2**72) / 1024 / 1024 / 1024"
   ]
  },
  {
   "cell_type": "code",
   "execution_count": null,
   "metadata": {},
   "outputs": [],
   "source": [
    "# Part 2\n",
    "from itertools import chain\n",
    "import math\n",
    "import time\n",
    "\n",
    "input = [int(c) for c in input_str.split(\" \")]\n",
    "CYCLES = 75\n",
    "\n",
    "\n",
    "def cycle(stone, cycles):\n",
    "    print(stone, cycles)\n",
    "\n",
    "    if cycles == 0:\n",
    "        return 1\n",
    "    \n",
    "    if stone == 0:\n",
    "        return 1\n",
    "\n",
    "    num_digits = math.floor(math.log10(stone)) + 1\n",
    "    if num_digits % 2 == 0:\n",
    "        divisor = 10 ** (num_digits // 2)\n",
    "        first_half = stone // divisor\n",
    "        second_half = stone % divisor\n",
    "        return cycle(first_half, cycles - 1) + cycle(second_half, cycles - 1)\n",
    "\n",
    "    return cycle(stone * 2024, cycles - 1)\n",
    "\n",
    "\n",
    "cycle(1, 75)\n",
    "\n",
    "# result = 0\n",
    "# for s in input:\n",
    "#     print(\"stone\", s)\n",
    "#     result += cycle(s, CYCLES)\n",
    "\n",
    "# print(result)"
   ]
  },
  {
   "cell_type": "code",
   "execution_count": 15,
   "metadata": {},
   "outputs": [
    {
     "data": {
      "text/plain": [
       "2097467546"
      ]
     },
     "execution_count": 15,
     "metadata": {},
     "output_type": "execute_result"
    }
   ],
   "source": [
    "0\n",
    "1\n",
    "2024\n",
    "20|24\n",
    "2|0|2|4\n",
    "4048|1|4048|8096\n",
    "40|48|2024|40|48|80|96\n",
    "4|0|4|8|20|24|4|0|4|8|8|0|9|6\n",
    "8096|1|8096|16192|\n",
    "\n"
   ]
  },
  {
   "cell_type": "code",
   "execution_count": 2,
   "metadata": {},
   "outputs": [],
   "source": [
    "# Test input\n",
    "input_str=\"125 17\""
   ]
  },
  {
   "cell_type": "code",
   "execution_count": 15,
   "metadata": {},
   "outputs": [],
   "source": [
    "# Input\n",
    "input_str=\"814 1183689 0 1 766231 4091 93836 46\""
   ]
  }
 ],
 "metadata": {
  "kernelspec": {
   "display_name": ".venv",
   "language": "python",
   "name": "python3"
  },
  "language_info": {
   "codemirror_mode": {
    "name": "ipython",
    "version": 3
   },
   "file_extension": ".py",
   "mimetype": "text/x-python",
   "name": "python",
   "nbconvert_exporter": "python",
   "pygments_lexer": "ipython3",
   "version": "3.12.1"
  }
 },
 "nbformat": 4,
 "nbformat_minor": 2
}
