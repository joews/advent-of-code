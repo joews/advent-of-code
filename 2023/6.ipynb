{
 "cells": [
  {
   "cell_type": "code",
   "execution_count": 1,
   "metadata": {},
   "outputs": [],
   "source": [
    "# Test input\n",
    "input_str=\"\"\"\n",
    "Time:      7  15   30\n",
    "Distance:  9  40  200\n",
    "\"\"\".strip()"
   ]
  },
  {
   "cell_type": "code",
   "execution_count": 12,
   "metadata": {},
   "outputs": [],
   "source": [
    "# Input\n",
    "input_str=\"\"\"\n",
    "Time:        58     81     96     76\n",
    "Distance:   434   1041   2219   1218\n",
    "\"\"\".strip()"
   ]
  },
  {
   "cell_type": "code",
   "execution_count": 2,
   "metadata": {},
   "outputs": [],
   "source": [
    "# Setup\n",
    "import re\n",
    "\n",
    "def parse(input_str):\n",
    "    rows = [ints(line) for line in input_str.splitlines()]\n",
    "    return [(rows[0][i], rows[1][i]) for i in range(len(rows[0]))]\n",
    "\n",
    "\n",
    "def ints(str_of_ints):\n",
    "    return [int(x) for x in re.split(r'\\s+', str_of_ints)[1:]]"
   ]
  },
  {
   "cell_type": "code",
   "execution_count": 14,
   "metadata": {},
   "outputs": [
    {
     "name": "stdout",
     "output_type": "stream",
     "text": [
      "Part 1: 1159152\n"
     ]
    }
   ],
   "source": [
    "# Part 1\n",
    "input = parse(input_str)\n",
    "\n",
    "result = 1\n",
    "\n",
    "for race in input:\n",
    "    (duration, record) = race\n",
    "    win_options = 0\n",
    "\n",
    "    for press_time in range(1, duration + 1):\n",
    "        distance = (duration - press_time) * press_time\n",
    "        if distance > record:\n",
    "            win_options += 1\n",
    "\n",
    "    result *= win_options\n",
    "\n",
    "print(\"Part 1:\", result)\n",
    "        "
   ]
  }
 ],
 "metadata": {
  "kernelspec": {
   "display_name": "Python 3",
   "language": "python",
   "name": "python3"
  },
  "language_info": {
   "codemirror_mode": {
    "name": "ipython",
    "version": 3
   },
   "file_extension": ".py",
   "mimetype": "text/x-python",
   "name": "python",
   "nbconvert_exporter": "python",
   "pygments_lexer": "ipython3",
   "version": "3.10.13"
  }
 },
 "nbformat": 4,
 "nbformat_minor": 2
}
