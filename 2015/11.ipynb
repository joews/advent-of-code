{
 "cells": [
  {
   "cell_type": "code",
   "execution_count": 19,
   "metadata": {},
   "outputs": [
    {
     "name": "stdout",
     "output_type": "stream",
     "text": [
      "Part 1: hepxxyzz\n"
     ]
    }
   ],
   "source": [
    "# Part 1\n",
    "import re\n",
    "\n",
    "input = \"hepxcrrq\"\n",
    "\n",
    "\n",
    "def to_int(char):\n",
    "    return ord(char) - 97\n",
    "\n",
    "\n",
    "def to_char(int):\n",
    "    return chr(int + 97)\n",
    "\n",
    "\n",
    "def to_str(ints):\n",
    "    return \"\".join([to_char(c) for c in ints])\n",
    "\n",
    "\n",
    "# Mutates arg\n",
    "# Thought about base-26 arithmetic or converting to hex, but this is easier to convert\n",
    "# between numbers and text\n",
    "def increment(ints, n=-1):\n",
    "    if n + len(ints) < 0:\n",
    "        raise Exception(\"overflow!\")\n",
    "\n",
    "    if ints[n] == 25:\n",
    "        ints[n] = 0\n",
    "        increment(ints, n - 1)\n",
    "    else:\n",
    "        ints[n] += 1\n",
    "\n",
    "\n",
    "def is_valid(ints):\n",
    "    not_allowed = [to_int(c) for c in [\"i\", \"o\", \"l\"]]\n",
    "\n",
    "    found_run = False\n",
    "    n_pairs = 0\n",
    "    last_pair_at = -1\n",
    "\n",
    "    for i, c in enumerate(ints):\n",
    "        # No i, o, l. Run first because it removes a lot of candidates.\n",
    "        if c in not_allowed:\n",
    "            return False\n",
    "\n",
    "        # Run of 3\n",
    "        if not found_run and i >= 2 and ints[i - 2] + 2 == c and ints[i - 1] + 1 == c:\n",
    "            found_run = True\n",
    "\n",
    "        # Non-overlapping pairs\n",
    "        if (i >= 1) and ints[i - 1] == c and i - last_pair_at >= 2:\n",
    "            last_pair_at = i\n",
    "            n_pairs += 1\n",
    "\n",
    "    return found_run and n_pairs >= 2\n",
    "\n",
    "\n",
    "ints = [to_int(c) for c in input]\n",
    "while not is_valid(ints):\n",
    "    increment(ints)\n",
    "\n",
    "print(\"Part 1:\", to_str(ints))"
   ]
  },
  {
   "cell_type": "code",
   "execution_count": 29,
   "metadata": {},
   "outputs": [
    {
     "name": "stdout",
     "output_type": "stream",
     "text": [
      "None\n"
     ]
    },
    {
     "ename": "TypeError",
     "evalue": "'NoneType' object is not iterable",
     "output_type": "error",
     "traceback": [
      "\u001b[0;31m---------------------------------------------------------------------------\u001b[0m",
      "\u001b[0;31mTypeError\u001b[0m                                 Traceback (most recent call last)",
      "\u001b[1;32m/workspaces/advent-of-code/2015/11.ipynb Cell 2\u001b[0m line \u001b[0;36m8\n\u001b[1;32m      <a href='vscode-notebook-cell://codespaces%2Banimated-invention-j9j4pqp5fp7pj/workspaces/advent-of-code/2015/11.ipynb#W4sdnNjb2RlLXJlbW90ZQ%3D%3D?line=4'>5</a>\u001b[0m \u001b[39mnext\u001b[39m \u001b[39m=\u001b[39m increment(ints)\n\u001b[1;32m      <a href='vscode-notebook-cell://codespaces%2Banimated-invention-j9j4pqp5fp7pj/workspaces/advent-of-code/2015/11.ipynb#W4sdnNjb2RlLXJlbW90ZQ%3D%3D?line=5'>6</a>\u001b[0m \u001b[39mprint\u001b[39m(\u001b[39mnext\u001b[39m)\n\u001b[0;32m----> <a href='vscode-notebook-cell://codespaces%2Banimated-invention-j9j4pqp5fp7pj/workspaces/advent-of-code/2015/11.ipynb#W4sdnNjb2RlLXJlbW90ZQ%3D%3D?line=7'>8</a>\u001b[0m \u001b[39mwhile\u001b[39;00m \u001b[39mnot\u001b[39;00m is_valid(\u001b[39mnext\u001b[39;49m):\n\u001b[1;32m      <a href='vscode-notebook-cell://codespaces%2Banimated-invention-j9j4pqp5fp7pj/workspaces/advent-of-code/2015/11.ipynb#W4sdnNjb2RlLXJlbW90ZQ%3D%3D?line=8'>9</a>\u001b[0m     increment(\u001b[39mnext\u001b[39m)\n\u001b[1;32m     <a href='vscode-notebook-cell://codespaces%2Banimated-invention-j9j4pqp5fp7pj/workspaces/advent-of-code/2015/11.ipynb#W4sdnNjb2RlLXJlbW90ZQ%3D%3D?line=10'>11</a>\u001b[0m \u001b[39mprint\u001b[39m(\u001b[39m\"\u001b[39m\u001b[39mPart 2: \u001b[39m\u001b[39m\"\u001b[39m, to_str(\u001b[39mnext\u001b[39m))\n",
      "\u001b[1;32m/workspaces/advent-of-code/2015/11.ipynb Cell 2\u001b[0m line \u001b[0;36m4\n\u001b[1;32m     <a href='vscode-notebook-cell://codespaces%2Banimated-invention-j9j4pqp5fp7pj/workspaces/advent-of-code/2015/11.ipynb#W4sdnNjb2RlLXJlbW90ZQ%3D%3D?line=36'>37</a>\u001b[0m n_pairs \u001b[39m=\u001b[39m \u001b[39m0\u001b[39m\n\u001b[1;32m     <a href='vscode-notebook-cell://codespaces%2Banimated-invention-j9j4pqp5fp7pj/workspaces/advent-of-code/2015/11.ipynb#W4sdnNjb2RlLXJlbW90ZQ%3D%3D?line=37'>38</a>\u001b[0m last_pair_at \u001b[39m=\u001b[39m \u001b[39m-\u001b[39m\u001b[39m1\u001b[39m\n\u001b[0;32m---> <a href='vscode-notebook-cell://codespaces%2Banimated-invention-j9j4pqp5fp7pj/workspaces/advent-of-code/2015/11.ipynb#W4sdnNjb2RlLXJlbW90ZQ%3D%3D?line=39'>40</a>\u001b[0m \u001b[39mfor\u001b[39;00m i, c \u001b[39min\u001b[39;00m \u001b[39menumerate\u001b[39;49m(ints):\n\u001b[1;32m     <a href='vscode-notebook-cell://codespaces%2Banimated-invention-j9j4pqp5fp7pj/workspaces/advent-of-code/2015/11.ipynb#W4sdnNjb2RlLXJlbW90ZQ%3D%3D?line=40'>41</a>\u001b[0m     \u001b[39m# No i, o, l. Run first because it removes a lot of candidates.\u001b[39;00m\n\u001b[1;32m     <a href='vscode-notebook-cell://codespaces%2Banimated-invention-j9j4pqp5fp7pj/workspaces/advent-of-code/2015/11.ipynb#W4sdnNjb2RlLXJlbW90ZQ%3D%3D?line=41'>42</a>\u001b[0m     \u001b[39mif\u001b[39;00m c \u001b[39min\u001b[39;00m not_allowed:\n\u001b[1;32m     <a href='vscode-notebook-cell://codespaces%2Banimated-invention-j9j4pqp5fp7pj/workspaces/advent-of-code/2015/11.ipynb#W4sdnNjb2RlLXJlbW90ZQ%3D%3D?line=42'>43</a>\u001b[0m         \u001b[39mreturn\u001b[39;00m \u001b[39mFalse\u001b[39;00m\n",
      "\u001b[0;31mTypeError\u001b[0m: 'NoneType' object is not iterable"
     ]
    }
   ],
   "source": [
    "# Part 2\n",
    "input = \"hepxxyzz\"\n",
    "\n",
    "ints = [to_int(c) for c in input]\n",
    "increment(ints)\n",
    "\n",
    "while not is_valid(ints):\n",
    "    increment(ints)\n",
    "\n",
    "print(\"Part 2: \", to_str(ints))"
   ]
  },
  {
   "cell_type": "code",
   "execution_count": 56,
   "metadata": {},
   "outputs": [
    {
     "ename": "IndexError",
     "evalue": "list index out of range",
     "output_type": "error",
     "traceback": [
      "\u001b[0;31m---------------------------------------------------------------------------\u001b[0m",
      "\u001b[0;31mIndexError\u001b[0m                                Traceback (most recent call last)",
      "\u001b[1;32m/workspaces/advent-of-code/2015/11.ipynb Cell 2\u001b[0m line \u001b[0;36m1\n\u001b[0;32m----> <a href='vscode-notebook-cell://codespaces%2Banimated-invention-j9j4pqp5fp7pj/workspaces/advent-of-code/2015/11.ipynb#W1sdnNjb2RlLXJlbW90ZQ%3D%3D?line=0'>1</a>\u001b[0m [\u001b[39m1\u001b[39;49m,\u001b[39m2\u001b[39;49m][\u001b[39m2\u001b[39;49m]\n",
      "\u001b[0;31mIndexError\u001b[0m: list index out of range"
     ]
    }
   ],
   "source": [
    "[1,2][2]"
   ]
  },
  {
   "cell_type": "code",
   "execution_count": 53,
   "metadata": {},
   "outputs": [
    {
     "name": "stdout",
     "output_type": "stream",
     "text": [
      "None\n"
     ]
    }
   ],
   "source": [
    "import re\n",
    "print(re.search(r'[iol]', \"p\"))"
   ]
  },
  {
   "cell_type": "code",
   "execution_count": null,
   "metadata": {},
   "outputs": [],
   "source": []
  }
 ],
 "metadata": {
  "kernelspec": {
   "display_name": "Python 3",
   "language": "python",
   "name": "python3"
  },
  "language_info": {
   "codemirror_mode": {
    "name": "ipython",
    "version": 3
   },
   "file_extension": ".py",
   "mimetype": "text/x-python",
   "name": "python",
   "nbconvert_exporter": "python",
   "pygments_lexer": "ipython3",
   "version": "3.10.13"
  }
 },
 "nbformat": 4,
 "nbformat_minor": 2
}
