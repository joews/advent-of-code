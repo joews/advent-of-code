{
 "cells": [
  {
   "cell_type": "code",
   "execution_count": 18,
   "metadata": {},
   "outputs": [
    {
     "name": "stdout",
     "output_type": "stream",
     "text": [
      "hepxxyzz\n"
     ]
    }
   ],
   "source": [
    "# Part 1\n",
    "import re\n",
    "\n",
    "input = \"hepxcrrq\"\n",
    "\n",
    "\n",
    "def to_int(char):\n",
    "    return ord(char) - 97\n",
    "\n",
    "\n",
    "def to_char(int):\n",
    "    return chr(int + 97)\n",
    "\n",
    "\n",
    "def to_str(ints):\n",
    "    return \"\".join([to_char(c) for c in ints])\n",
    "\n",
    "\n",
    "# Mutates arg\n",
    "# Thought about base-26 arithmetic or converting to hex, but this is easier to convert\n",
    "# between numbers and text\n",
    "def increment(ints, n=-1):\n",
    "    if n + len(ints) < 0:\n",
    "        raise Exception(\"overflow!\")\n",
    "\n",
    "    if ints[n] == 25:\n",
    "        ints[n] = 0\n",
    "        increment(ints, n - 1)\n",
    "    else:\n",
    "        ints[n] += 1\n",
    "\n",
    "\n",
    "def is_valid(ints):\n",
    "    not_allowed = [to_int(c) for c in [\"i\", \"o\", \"l\"]]\n",
    "\n",
    "    found_run = False\n",
    "    n_pairs = 0\n",
    "    last_pair_at = -1\n",
    "\n",
    "    for i, c in enumerate(ints):\n",
    "        # No i, o, l. Run first because it removes a lot of candidates.\n",
    "        if c in not_allowed:\n",
    "            return False\n",
    "\n",
    "        # Run of 3\n",
    "        if not found_run and i >= 2 and ints[i - 2] + 2 == c and ints[i - 1] + 1 == c:\n",
    "            found_run = True\n",
    "\n",
    "        # Non-overlapping pairs\n",
    "        if (i >= 1) and ints[i - 1] == c and i - last_pair_at >= 2:\n",
    "            last_pair_at = i\n",
    "            n_pairs += 1\n",
    "\n",
    "    return found_run and n_pairs >= 2\n",
    "\n",
    "\n",
    "ints = [to_int(c) for c in input]\n",
    "while not is_valid(ints):\n",
    "    increment(ints)\n",
    "\n",
    "print(\"Part 1:\", to_str(ints))"
   ]
  },
  {
   "cell_type": "code",
   "execution_count": 56,
   "metadata": {},
   "outputs": [
    {
     "ename": "IndexError",
     "evalue": "list index out of range",
     "output_type": "error",
     "traceback": [
      "\u001b[0;31m---------------------------------------------------------------------------\u001b[0m",
      "\u001b[0;31mIndexError\u001b[0m                                Traceback (most recent call last)",
      "\u001b[1;32m/workspaces/advent-of-code/2015/11.ipynb Cell 2\u001b[0m line \u001b[0;36m1\n\u001b[0;32m----> <a href='vscode-notebook-cell://codespaces%2Banimated-invention-j9j4pqp5fp7pj/workspaces/advent-of-code/2015/11.ipynb#W1sdnNjb2RlLXJlbW90ZQ%3D%3D?line=0'>1</a>\u001b[0m [\u001b[39m1\u001b[39;49m,\u001b[39m2\u001b[39;49m][\u001b[39m2\u001b[39;49m]\n",
      "\u001b[0;31mIndexError\u001b[0m: list index out of range"
     ]
    }
   ],
   "source": [
    "[1,2][2]"
   ]
  },
  {
   "cell_type": "code",
   "execution_count": 53,
   "metadata": {},
   "outputs": [
    {
     "name": "stdout",
     "output_type": "stream",
     "text": [
      "None\n"
     ]
    }
   ],
   "source": [
    "import re\n",
    "print(re.search(r'[iol]', \"p\"))"
   ]
  },
  {
   "cell_type": "code",
   "execution_count": null,
   "metadata": {},
   "outputs": [],
   "source": []
  }
 ],
 "metadata": {
  "kernelspec": {
   "display_name": "Python 3",
   "language": "python",
   "name": "python3"
  },
  "language_info": {
   "codemirror_mode": {
    "name": "ipython",
    "version": 3
   },
   "file_extension": ".py",
   "mimetype": "text/x-python",
   "name": "python",
   "nbconvert_exporter": "python",
   "pygments_lexer": "ipython3",
   "version": "3.10.13"
  }
 },
 "nbformat": 4,
 "nbformat_minor": 2
}
